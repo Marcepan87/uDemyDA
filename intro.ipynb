{
  "nbformat": 4,
  "nbformat_minor": 0,
  "metadata": {
    "colab": {
      "provenance": [],
      "toc_visible": true,
      "authorship_tag": "ABX9TyPGkPzvwyXxS+9irP17DccA",
      "include_colab_link": true
    },
    "kernelspec": {
      "name": "python3",
      "display_name": "Python 3"
    },
    "language_info": {
      "name": "python"
    }
  },
  "cells": [
    {
      "cell_type": "markdown",
      "metadata": {
        "id": "view-in-github",
        "colab_type": "text"
      },
      "source": [
        "<a href=\"https://colab.research.google.com/github/Marcepan87/uDemyDA/blob/main/intro.ipynb\" target=\"_parent\"><img src=\"https://colab.research.google.com/assets/colab-badge.svg\" alt=\"Open In Colab\"/></a>"
      ]
    },
    {
      "cell_type": "code",
      "execution_count": null,
      "metadata": {
        "colab": {
          "base_uri": "https://localhost:8080/"
        },
        "id": "CIr9jRaDD80i",
        "outputId": "df900dc0-deeb-40aa-abdb-35cb21eaeb54"
      },
      "outputs": [
        {
          "output_type": "stream",
          "name": "stdout",
          "text": [
            "Hello Colab\n"
          ]
        }
      ],
      "source": [
        "print ('Hello Colab')"
      ]
    },
    {
      "cell_type": "markdown",
      "source": [
        "### TEKST ###"
      ],
      "metadata": {
        "id": "OGQxOEUqEt47"
      }
    },
    {
      "cell_type": "code",
      "source": [],
      "metadata": {
        "id": "KNUgjH5DFCev"
      },
      "execution_count": null,
      "outputs": []
    }
  ]
}